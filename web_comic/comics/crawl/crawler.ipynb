{
 "cells": [
  {
   "cell_type": "code",
   "execution_count": 40,
   "metadata": {},
   "outputs": [],
   "source": [
    "from selenium import webdriver\n",
    "from selenium.webdriver.chrome.service import Service\n",
    "from selenium.webdriver.common.by import By\n",
    "from selenium.webdriver.chrome.options import Options\n",
    "from selenium.webdriver.common.action_chains import ActionChains\n",
    "from selenium.webdriver.common.keys import Keys\n",
    "from webdriver_manager.chrome import ChromeDriverManager\n",
    "import time\n",
    "import pandas as pd\n",
    "import os\n",
    "import pyautogui"
   ]
  },
  {
   "cell_type": "code",
   "execution_count": null,
   "metadata": {},
   "outputs": [],
   "source": [
    "chrome_options = Options()\n",
    "chrome_options.add_argument(\"--headless\")\n",
    "chrome_options.add_argument(\"--disable-gpu\")\n",
    "chrome_options.add_argument(\"--no-sandbox\")\n",
    "\n",
    "service = Service(ChromeDriverManager().install())"
   ]
  },
  {
   "cell_type": "code",
   "execution_count": null,
   "metadata": {},
   "outputs": [
    {
     "name": "stdout",
     "output_type": "stream",
     "text": [
      "Đang crawl trang 1...\n",
      "Đang crawl trang 2...\n",
      "Đang crawl trang 3...\n"
     ]
    }
   ],
   "source": [
    "driver = webdriver.Chrome(service=service, options=chrome_options)\n",
    "URL = \"https://goctruyentranhvui16.com/trang-chu\"\n",
    "driver.get(URL)\n",
    "\n",
    "\n",
    "time.sleep(3)\n",
    "\n",
    "\n",
    "stories = []\n",
    "max_pages = 3  \n",
    "current_page = 1\n",
    "\n",
    "while current_page <= max_pages:\n",
    "    print(f\"Đang crawl trang {current_page}...\")\n",
    "\n",
    "    \n",
    "    story_elements = driver.find_elements(By.CLASS_NAME, \"col-md-2.col-lg-2.col-xl-2.col-sm-3.col-4.col-mb.w-100.p-6.border-box\")\n",
    "\n",
    "    \n",
    "    for story in story_elements:\n",
    "        title = story.get_attribute(\"title\")\n",
    "        link_element = story.find_element(By.TAG_NAME, \"a\")\n",
    "        href = link_element.get_attribute(\"href\") if link_element else None\n",
    "\n",
    "        if title and href:\n",
    "            stories.append({\"title\": title, \"href\": href})\n",
    "\n",
    "    print(f\"Đã crawl xong trang {current_page}, tổng {len(stories)} truyện.\")\n",
    "    \n",
    "    try:\n",
    "        next_button = driver.find_element(By.CLASS_NAME, \"next.btn-default-icon.btn-default-round.btn-size-default.theme-dark\")\n",
    "        driver.execute_script(\"arguments[0].click();\", next_button)  \n",
    "        time.sleep(3)  \n",
    "    except:\n",
    "        print(\"Không tìm thấy nút tiếp theo, dừng crawl.\")\n",
    "        break\n",
    "\n",
    "    current_page += 1\n",
    "\n",
    "# Đóng trình duyệt\n",
    "driver.quit()"
   ]
  },
  {
   "cell_type": "code",
   "execution_count": 5,
   "metadata": {},
   "outputs": [
    {
     "name": "stdout",
     "output_type": "stream",
     "text": [
      "Title: Trị Liệu Sư Quá Mạnh, Link: https://goctruyentranhvui16.com/truyen/tri-lieu-su-qua-manh\n",
      "Title: Tôi Là Người Chơi Duy Nhất Đăng Nhập, Link: https://goctruyentranhvui16.com/truyen/toi-la-nguoi-choi-duy-nhat-dang-nhap\n",
      "Title: Thợ Săn Chơi Thuốc, Link: https://goctruyentranhvui16.com/truyen/tho-san-choi-thuoc\n",
      "Title: Con Đường Của Võ Giả, Link: https://goctruyentranhvui16.com/truyen/con-duong-cua-vo-gia\n",
      "Title: Seoul Tử Linh Sư, Link: https://goctruyentranhvui16.com/truyen/seoul-tu-linh-su\n",
      "Title: Ta Trời Sinh Đã Là Nhân Vật Phản Diện, Link: https://goctruyentranhvui16.com/truyen/ta-troi-sinh-da-la-nhan-vat-phan-dien\n",
      "Title: Cậu Nhỏ Nhà Công Tước Là Sát Thủ Hồi Quy, Link: https://goctruyentranhvui16.com/truyen/cau-nho-nha-cong-tuoc-la-sat-thu-hoi-quy\n",
      "Title: Hardcore Leveling Warrior: Earth Game, Link: https://goctruyentranhvui16.com/truyen/hardcore-leveling-warrior--earth-game\n",
      "Title: Con Trai Út Nhà Ha Buk Paeng, Link: https://goctruyentranhvui16.com/truyen/con-trai-ut-nha-ha-buk-paeng\n",
      "Title: Đại Phụng Đả Canh Nhân, Link: https://goctruyentranhvui16.com/truyen/dai-phung-da-canh-nhan\n",
      "Title: Thiết Huyết Kiếm Sĩ Phục Thù, Link: https://goctruyentranhvui16.com/truyen/thiet-huyet-kiem-si-phuc-thu\n",
      "Title: Thể Thao Cực Hạn, Link: https://goctruyentranhvui16.com/truyen/the-thao-cuc-han\n",
      "Title: Tự Kỷ Luật Ta Đây Bất Khả Chiến Bại, Link: https://goctruyentranhvui16.com/truyen/tu-ky-luat-ta-day-bat-kha-chien-bai\n",
      "Title: Bắt Đầu Với Trăm Vạn Minh Tệ, Link: https://goctruyentranhvui16.com/truyen/bat-dau-voi-tram-van-minh-te\n",
      "Title: Thảm Họa Tử Linh Sư, Link: https://goctruyentranhvui16.com/truyen/tham-hoa-tu-linh-su\n",
      "Title: Hành Tinh Quái Vật, Link: https://goctruyentranhvui16.com/truyen/hanh-tinh-quai-vat\n",
      "Title: Toàn Dân Chuyển Chức: Duy Ta Vô Chức Tán Nhân, Link: https://goctruyentranhvui16.com/truyen/toan-dan-chuyen-chuc--duy-ta-vo-chuc-tan-nhan\n",
      "Title: Buff May Mắn, Link: https://goctruyentranhvui16.com/truyen/buff-may-man\n",
      "Title: Tôi Là Người Chơi Leo Tháp Một Mình, Link: https://goctruyentranhvui16.com/truyen/toi-la-nguoi-choi-leo-thap-mot-minh\n",
      "Title: Diễn Viên Thiên Tài Mang Lại Bất Hạnh, Link: https://goctruyentranhvui16.com/truyen/dien-vien-thien-tai-mang-lai-bat-hanh\n",
      "Title: Câu Lạc Bộ Truyện Ma, Link: https://goctruyentranhvui16.com/truyen/cau-lac-bo-truyen-ma\n",
      "Title: Thần Khí Huyền Thoại Của Người Chơi Thiên Tài, Link: https://goctruyentranhvui16.com/truyen/than-khi-huyen-thoai-cua-nguoi-choi-thien-tai\n",
      "Title: Thiên Ma 3077, Link: https://goctruyentranhvui16.com/truyen/thien-ma-3077\n",
      "Title: Kẻ Thống Trị Kịch Bản, Link: https://goctruyentranhvui16.com/truyen/ke-thong-tri-kich-ban\n",
      "Title: Hoạn Quan Hồi Quy: Tróc Phong Truy Nguyệt, Link: https://goctruyentranhvui16.com/truyen/hoan-quan-hoi-quy--troc-phong-truy-nguyet\n",
      "Title: Nhà Hàng Âm Phủ, Link: https://goctruyentranhvui16.com/truyen/nha-hang-am-phu\n",
      "Title: Truyền Võ, Link: https://goctruyentranhvui16.com/truyen/truyen-vo\n",
      "Title: Máu lạnh, Link: https://goctruyentranhvui16.com/truyen/mau-lanh\n",
      "Title: Đồ Đệ Của Ta Đều Là Đại Phản Phái, Link: https://goctruyentranhvui16.com/truyen/do-de-cua-ta-deu-la-dai-phan-phai\n",
      "Title: Trở Lại Thành Người Chơi, Link: https://goctruyentranhvui16.com/truyen/tro-lai-thanh-nguoi-choi\n",
      "Title: Chế Ngự Kiếm, Link: https://goctruyentranhvui16.com/truyen/che-ngu-kiem\n",
      "Title: Phản Diện Tóc Vàng Trong Tiểu Thuyết Phượng Ngạo Thiên Cũng Muồn Hạnh Phúc, Link: https://goctruyentranhvui16.com/truyen/phan-dien-toc-vang-trong-tieu-thuyet-phuong-ngao-thien-cung-muon-hanh-phuc\n",
      "Title: Xích Nguyệt, Link: https://goctruyentranhvui16.com/truyen/xich-nguyet\n",
      "Title: Debut Or Die, Link: https://goctruyentranhvui16.com/truyen/debut-or-die\n",
      "Title: Sức Mạnh Tối Đa? Ta Lại Là Vong Linh Sư!, Link: https://goctruyentranhvui16.com/truyen/suc-manh-toi-da--ta-lai-la-vong-linh-su-\n",
      "Title: Khởi Đầu Vật Giá Sụt Giảm, Ta Trở Thành Nhà Giàu Số Một Thế Giới!, Link: https://goctruyentranhvui16.com/truyen/khoi-dau-vat-gia-sut-giam--ta-tro-thanh-nha-giau-so-mot-the-gioi-\n",
      "Title: Nguyên Lai Ta Là Tu Tiên Đại Lão, Link: https://goctruyentranhvui16.com/truyen/nguyen-lai-ta-la-tu-tien-dai-lao\n",
      "Title: Xích Tâm Tuần Thiên, Link: https://goctruyentranhvui16.com/truyen/xich-tam-tuan-thien\n",
      "Title: Xin Hãy Đọc, Link: https://goctruyentranhvui16.com/truyen/xin-hay-doc\n",
      "Title: Toàn Dân Chuyển Chức: Ngự Long Sư Là Chức Nghiệp Yếu Nhất?, Link: https://goctruyentranhvui16.com/truyen/toan-dan-chuyen-chuc--ngu-long-su-la-chuc-nghiep-yeu-nhat-\n",
      "Title: Làm Ơn Dừng Đức Giáo Hoàng Lại, Link: https://goctruyentranhvui16.com/truyen/lam-on-dung-duc-giao-hoang-lai\n",
      "Title: Vương Triều Đen Tối Joseon, Link: https://goctruyentranhvui16.com/truyen/vuong-trieu-den-toi-joseon\n",
      "Title: Đứa Trẻ Rắc Rối Của Ma Tháp, Link: https://goctruyentranhvui16.com/truyen/dua-tre-rac-roi-cua-ma-thap\n",
      "Title: Helmut-Đứa Trẻ Bị Lãng Quên, Link: https://goctruyentranhvui16.com/truyen/helmut-dua-tre-bi-lang-quen\n",
      "Title: Sự Trở Lại Của Đại Pháp Sư, Link: https://goctruyentranhvui16.com/truyen/su-tro-lai-cua-dai-phap-su\n",
      "Title: Thiên Qua Thư Khố Đại Công Tử, Link: https://goctruyentranhvui16.com/truyen/thien-qua-thu-kho-dai-cong-tu\n",
      "Title: Học Nhóm, Link: https://goctruyentranhvui16.com/truyen/hoc-nhom\n",
      "Title: Cửa Hàng Diệu Kỳ, Link: https://goctruyentranhvui16.com/truyen/cua-hang-dieu-ky\n",
      "Title: Thiên Tài Bình Dị, Link: https://goctruyentranhvui16.com/truyen/thien-tai-binh-di\n",
      "Title: Đại Tướng Quân, Link: https://goctruyentranhvui16.com/truyen/dai-tuong-quan\n",
      "Title: Nền Văn Minh Nebula, Link: https://goctruyentranhvui16.com/truyen/nen-van-minh-nebula\n",
      "Title: Mạo Hiểm Giả Cuối Cùng, Link: https://goctruyentranhvui16.com/truyen/mao-hiem-gia-cuoi-cung\n",
      "Title: Tôi Bị Hiểu Lầm Là Diễn Viên Thiên Tài Quái Vật, Link: https://goctruyentranhvui16.com/truyen/toi-bi-hieu-lam-la-dien-vien-thien-tai-quai-vat\n",
      "Title: Anh Hùng Huyền Thoại Là Học Viên Danh Dự Của Học Viện, Link: https://goctruyentranhvui16.com/truyen/anh-hung-huyen-thoai-la-hoc-vien-danh-du-cua-hoc-vien\n",
      "Title: Vô Tình Nhập Học, Link: https://goctruyentranhvui16.com/truyen/vo-tinh-nhap-hoc\n",
      "Title: Học Viện Tối Thượng, Link: https://goctruyentranhvui16.com/truyen/hoc-vien-toi-thuong\n",
      "Title: Tôi Chỉ Là Người Khuân Vác Trong Hầm Ngục, Link: https://goctruyentranhvui16.com/truyen/toi-chi-la-nguoi-khuan-vac-trong-ham-nguc\n",
      "Title: Kim Chiến Sĩ: Hành Trình Xây Dựng Đặc Tính, Link: https://goctruyentranhvui16.com/truyen/kim-chien-si--hanh-trinh-xay-dung-dac-tinh\n",
      "Title: Nhà Vô Địch Kalli, Link: https://goctruyentranhvui16.com/truyen/nha-vo-dich-kalli\n",
      "Title: Hồi Quy Giả Của Gia Tộc Suy Vong, Link: https://goctruyentranhvui16.com/truyen/hoi-quy-gia-cua-gia-toc-suy-vong\n",
      "Title: Bé Con Tái Xuất: Hành Trình Thành Vua Tài Phiệt!, Link: https://goctruyentranhvui16.com/truyen/be-con-tai-xuat--hanh-trinh-thanh-vua-tai-phiet-\n",
      "Title: Ma Đạo Luân Hồi Ký, Link: https://goctruyentranhvui16.com/truyen/ma-dao-luan-hoi-ky\n",
      "Title: Cao Võ: Hạ Cánh Đến Một Vạn Năm Sau, Link: https://goctruyentranhvui16.com/truyen/cao-vo--ha-canh-den-mot-van-nam-sau\n",
      "Title: Anh Hùng Hồi Quy, Link: https://goctruyentranhvui16.com/truyen/anh-hung-hoi-quy\n",
      "Title: Bạn Học Của Tôi Là Lính Đánh Thuê, Link: https://goctruyentranhvui16.com/truyen/ban-hoc-cua-toi-la-linh-danh-thue\n",
      "Title: Võ Đang Kỳ Hiệp, Link: https://goctruyentranhvui16.com/truyen/vo-dang-ky-hiep\n",
      "Title: Sát Thần Tu La, Link: https://goctruyentranhvui16.com/truyen/sat-than-tu-la\n",
      "Title: Con Trai Út Của Gia Đình Kiếm Thuật Danh Tiếng, Link: https://goctruyentranhvui16.com/truyen/con-trai-ut-cua-gia-dinh-kiem-thuat-danh-tieng\n",
      "Title: Hóa Ra Ta Sớm Đã Vô Địch, Link: https://goctruyentranhvui16.com/truyen/hoa-ra-ta-som-da-vo-dich\n",
      "Title: Quỷ Vương, Link: https://goctruyentranhvui16.com/truyen/quy-vuong\n",
      "Title: Sống Sót Qua Ngày Tận Thế, Link: https://goctruyentranhvui16.com/truyen/song-sot-qua-ngay-tan-the\n",
      "Title: Kiếm Sĩ Thiên Tài Của Học Viện, Link: https://goctruyentranhvui16.com/truyen/kiem-si-thien-tai-cua-hoc-vien\n",
      "Title: Thiên Hạ Đệ Nhất Côn Luân Khách Điếm, Link: https://goctruyentranhvui16.com/truyen/thien-ha-de-nhat-con-luan-khach-diem\n",
      "Title: Tuyệt Thế Võ Thần, Link: https://goctruyentranhvui16.com/truyen/tuyet-the-vo-than\n",
      "Title: Tiền Đạo Số 1, Link: https://goctruyentranhvui16.com/truyen/tien-dao-so-1\n",
      "Title: Người Chơi Che Giấu Quá Khứ, Link: https://goctruyentranhvui16.com/truyen/nguoi-choi-che-giau-qua-khu\n",
      "Title: Huấn Luyện Viên Murim Thiên Tài, Link: https://goctruyentranhvui16.com/truyen/huan-luyen-vien-murim-thien-tai\n",
      "Title: Đại Quản Gia Là Ma Hoàng, Link: https://goctruyentranhvui16.com/truyen/dai-quan-gia-la-ma-hoang\n",
      "Title: Tuyệt Thế Quân Lâm, Link: https://goctruyentranhvui16.com/truyen/tuyet-the-quan-lam\n",
      "Title: Vạn Cổ Tối Cường Tông, Link: https://goctruyentranhvui16.com/truyen/van-co-toi-cuong-tong\n",
      "Title: Quý Tộc Báo Thù, Link: https://goctruyentranhvui16.com/truyen/quy-toc-bao-thu\n",
      "Title: Công Tử Thực Sự Quá Chính Nghĩa, Link: https://goctruyentranhvui16.com/truyen/cong-tu-thuc-su-qua-chinh-nghia\n",
      "Title: Troll Bá Nhất Thế Giới, Link: https://goctruyentranhvui16.com/truyen/troll-ba-nhat-the-gioi\n",
      "Title: Luật Thanh Niên, Link: https://goctruyentranhvui16.com/truyen/luat-thanh-nien\n",
      "Title: Thợ Săn Mosin, Link: https://goctruyentranhvui16.com/truyen/tho-san-mosin\n",
      "Title: Trở Thành Thiên Tài Tốc Biến Của Học Viện Ma Pháp, Link: https://goctruyentranhvui16.com/truyen/tro-thanh-thien-tai-toc-bien-cua-hoc-vien-ma-phap\n",
      "Title: Sức Mạnh Của Ác Thần, Link: https://goctruyentranhvui16.com/truyen/suc-manh-cua-ac-than\n",
      "Title: Bà Xã Nhà Tôi Đến Từ Ngàn Năm Trước, Link: https://goctruyentranhvui16.com/truyen/ba-xa-nha-toi-den-tu-ngan-nam-truoc\n",
      "Title: Tu Tiên Trở Về Tại Vườn Trường - Phần 2, Link: https://goctruyentranhvui16.com/truyen/tu-tien-tro-ve-tai-vuon-truong---phan-2\n",
      "Title: Hồi Quy Gia, Link: https://goctruyentranhvui16.com/truyen/hoi-quy-gia\n"
     ]
    }
   ],
   "source": [
    "for story in stories:\n",
    "    print(f\"Title: {story['title']}, Link: {story['href']}\")"
   ]
  },
  {
   "cell_type": "code",
   "execution_count": 8,
   "metadata": {},
   "outputs": [],
   "source": [
    "df = pd.DataFrame(stories)\n",
    "df.to_csv(\"stories.csv\", index=False)"
   ]
  },
  {
   "cell_type": "code",
   "execution_count": 10,
   "metadata": {},
   "outputs": [],
   "source": [
    "file_path = \"stories.csv\"\n",
    "df = pd.read_csv(file_path)"
   ]
  },
  {
   "cell_type": "code",
   "execution_count": null,
   "metadata": {},
   "outputs": [
    {
     "name": "stdout",
     "output_type": "stream",
     "text": [
      "Đang crawl truyện 1: https://goctruyentranhvui16.com/truyen/tri-lieu-su-qua-manh\n",
      "Đang crawl truyện 2: https://goctruyentranhvui16.com/truyen/toi-la-nguoi-choi-duy-nhat-dang-nhap\n"
     ]
    }
   ],
   "source": [
    "driver = webdriver.Chrome(service=service, options=chrome_options)\n",
    "\n",
    "updated_data = []\n",
    "limit = 2\n",
    "for index, row in df.head(limit).iterrows():\n",
    "    url = row[\"href\"]  \n",
    "    print(f\"Đang crawl truyện {index + 1}: {url}\")\n",
    "\n",
    "    try:\n",
    "        driver.get(url)\n",
    "        time.sleep(2)  \n",
    "        \n",
    "        # Crawl thể loại truyện\n",
    "        genre_elements = driver.find_elements(By.CSS_SELECTOR, \"div.group-content a\")\n",
    "        genres = \", \".join([genre.text for genre in genre_elements]) if genre_elements else \"Không có thể loại\"\n",
    "\n",
    "        # Crawl mô tả truyện\n",
    "        try:\n",
    "            description_element = driver.find_element(By.CSS_SELECTOR, \"div.v-card-text.pt-1.px-4.pb-4.text-secondary.font-weight-medium\")\n",
    "            description = description_element.text.strip()\n",
    "        except:\n",
    "            description = \"Không có mô tả\"\n",
    "            print(\"Không có mô tả\")\n",
    "\n",
    "        # Crawl link ảnh trong class \"image\"\n",
    "        try:\n",
    "            image_element = driver.find_element(By.CSS_SELECTOR, \"img.image\")\n",
    "            image_url = image_element.get_attribute(\"src\")\n",
    "        except:\n",
    "            image_url = \"Không có link ảnh\"\n",
    "            print(\"Không có link ảnh\")\n",
    "\n",
    "        # Lưu vào danh sách\n",
    "        updated_data.append([row[\"title\"], url, genres, description, image_url])\n",
    "\n",
    "    except Exception as e:\n",
    "        print(f\"Lỗi khi crawl {url}: {e}\")\n",
    "        updated_data.append([row[\"title\"], url, \"Lỗi\", \"Lỗi\", \"Lỗi\"])\n",
    "        \n",
    "# Đóng trình duyệt\n",
    "driver.quit()"
   ]
  },
  {
   "cell_type": "code",
   "execution_count": 44,
   "metadata": {},
   "outputs": [
    {
     "data": {
      "text/plain": [
       "[['Trị Liệu Sư Quá Mạnh',\n",
       "  'https://goctruyentranhvui16.com/truyen/tri-lieu-su-qua-manh',\n",
       "  'Hành Động, Manhwa, Phiêu Lưu, Hài Hước',\n",
       "  'South Korea’s top hunter, \\'Mad Dog\\' Min Si-woo. The moment he and his disciples defeated the Demon King! He was sent to another world,and after 100 years of battling in a monster-infested realm, he finally returned to Earth! \"But why has everyone forgotten about me?\" 100 years in the other world was only 10 years on Earth. Now, a seasoned veteran hardened by a century of bloodshed,Min Si-woo sets out to find his lost disciples and uncover the reason behind his erasure![Food supply, buy me some fried chicken.]...Alongside Fre, a mysterious being he met in the other world!',\n",
       "  'https://goctruyentranhvui16.com/image/tri-lieu-su-qua-manh-0000917077-10-02-2025/1MWLPXrJI3NFosZvWE94aZzVYOu99mu3G?code=gtt-yes'],\n",
       " ['Tôi Là Người Chơi Duy Nhất Đăng Nhập',\n",
       "  'https://goctruyentranhvui16.com/truyen/toi-la-nguoi-choi-duy-nhat-dang-nhap',\n",
       "  'Hành Động, Manhwa, Siêu Nhiên',\n",
       "  \"Jung Si-woo 11 tuổi chưa bao giờ có bạn bè, bởi vì không có gì thú vị về anh ta. Anh ấy đã sống một cuộc sống trung bình như một người bình thường trong một thế giới trung bình. Nhưng đột nhiên, trái đất phải đối mặt với một sự thay đổi lớn khi 'Lâu đài trên bầu trời' trôi nổi bí ẩn xuất hiện. 'Lâu đài bầu trời' đã cấp cho một số người đôi cánh và sức mạnh, nhưng thật không may, Si-woo không phải là một trong số họ.\",\n",
       "  'https://goctruyentranhvui16.com/image/toi-la-nguoi-choi-duy-nhat-dang-nhap-0000058103-03-06-2021/1JDeIaZ0o_3FDbpcee-D7q51LoxGxypni?code=gtt-yes']]"
      ]
     },
     "execution_count": 44,
     "metadata": {},
     "output_type": "execute_result"
    }
   ],
   "source": [
    "updated_data"
   ]
  },
  {
   "cell_type": "code",
   "execution_count": 29,
   "metadata": {},
   "outputs": [],
   "source": [
    "df_new = pd.DataFrame(updated_data, columns=[\"tiêu đề\", \"link truyện\", \"thể loại\", \"mô tả\", \"link ảnh\"])\n",
    "df_new.to_csv(\"stories_updated.csv\", index=False, encoding=\"utf-8-sig\")"
   ]
  }
 ],
 "metadata": {
  "kernelspec": {
   "display_name": "Python 3",
   "language": "python",
   "name": "python3"
  },
  "language_info": {
   "codemirror_mode": {
    "name": "ipython",
    "version": 3
   },
   "file_extension": ".py",
   "mimetype": "text/x-python",
   "name": "python",
   "nbconvert_exporter": "python",
   "pygments_lexer": "ipython3",
   "version": "3.10.11"
  }
 },
 "nbformat": 4,
 "nbformat_minor": 2
}
